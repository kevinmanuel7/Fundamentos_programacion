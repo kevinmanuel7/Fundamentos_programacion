{
 "cells": [
  {
   "cell_type": "markdown",
   "id": "27010268",
   "metadata": {},
   "source": [
    "# Pregunta 1\n",
    "Escriba un programa que permita almacenar 3 nombres solicitados por pantalla en una lista, luego el sistema deberá mostrar el nombre que tenga mayor cantidad de caracteres en un mensaje de salida por pantalla."
   ]
  },
  {
   "cell_type": "code",
   "execution_count": 4,
   "id": "b19575a9",
   "metadata": {},
   "outputs": [
    {
     "name": "stdout",
     "output_type": "stream",
     "text": [
      "El nombre más largo de la lista es: Ninoska\n"
     ]
    }
   ],
   "source": [
    "nombres = ['Ayrton', 'Ninoska', 'Kevin']\n",
    "\n",
    "nombre_mas_largo = max(nombres)\n",
    "print(f'El nombre más largo de la lista es: {nombre_mas_largo}')"
   ]
  },
  {
   "cell_type": "markdown",
   "id": "37ac4d32",
   "metadata": {},
   "source": [
    "# Pregunta 2\n",
    "Cree 2 listas, en las cuales se guardará 3 nombres y 3 apellidos (1 lista para nombres y una 1 lista para apellidos), el sistema deberá mostrar de forma ordena-da los nombres y apellidos."
   ]
  },
  {
   "cell_type": "code",
   "execution_count": 6,
   "id": "07c46b51",
   "metadata": {},
   "outputs": [
    {
     "name": "stdout",
     "output_type": "stream",
     "text": [
      "Ayrton Maturana\n",
      "Ninoska Barrera\n",
      "Kevin Maturana\n"
     ]
    }
   ],
   "source": [
    "nombres = ['Ayrton', 'Ninoska', 'Kevin']\n",
    "apellidos = ['Maturana', 'Barrera', 'Maturana']\n",
    "\n",
    "for nombre, apellido in zip(nombres, apellidos):\n",
    "    print(f'{nombre} {apellido}')\n"
   ]
  },
  {
   "cell_type": "markdown",
   "id": "030b0ee6",
   "metadata": {},
   "source": [
    "# Pregunta 3\n",
    "Cree una lista y comience a almacenar nombres, cada vez que se agregue un nombre nuevo, el sistema preguntará si desea agregar otro nombre, deberá agre-gar nombres hasta que la respuesta sea “no”, “No”, “nO” o “NO” (use funciones lower() y upper() ) "
   ]
  },
  {
   "cell_type": "code",
   "execution_count": null,
   "id": "8402e49f",
   "metadata": {},
   "outputs": [],
   "source": []
  }
 ],
 "metadata": {
  "kernelspec": {
   "display_name": "Python 3",
   "language": "python",
   "name": "python3"
  },
  "language_info": {
   "codemirror_mode": {
    "name": "ipython",
    "version": 3
   },
   "file_extension": ".py",
   "mimetype": "text/x-python",
   "name": "python",
   "nbconvert_exporter": "python",
   "pygments_lexer": "ipython3",
   "version": "3.9.6"
  }
 },
 "nbformat": 4,
 "nbformat_minor": 5
}
